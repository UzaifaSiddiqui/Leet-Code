{
  "nbformat": 4,
  "nbformat_minor": 0,
  "metadata": {
    "colab": {
      "provenance": []
    },
    "kernelspec": {
      "name": "python3",
      "display_name": "Python 3"
    },
    "language_info": {
      "name": "python"
    }
  },
  "cells": [
    {
      "cell_type": "code",
      "execution_count": 2,
      "metadata": {
        "id": "MfxZhDqUQNGI"
      },
      "outputs": [],
      "source": [
        ""
      ]
    },
    {
      "cell_type": "code",
      "source": [
        "num =  \"52\"\n",
        "i =len(num) -1\n",
        "while i >= 0 and (num):\n",
        "  #print(i,num[0:i+1])\n",
        "  if int(num[i])%2 !=0 :\n",
        "    print(num[0:i+1])\n",
        "    break\n",
        "  i-=1\n",
        "else:\n",
        "  print(\"\")"
      ],
      "metadata": {
        "colab": {
          "base_uri": "https://localhost:8080/"
        },
        "id": "DrKv6-_IQ8ng",
        "outputId": "5ed5628f-0ba2-4408-c2c9-8eabb19ebb9f"
      },
      "execution_count": 19,
      "outputs": [
        {
          "output_type": "stream",
          "name": "stdout",
          "text": [
            "5\n"
          ]
        }
      ]
    },
    {
      "cell_type": "code",
      "source": [
        "s = \"loveleetcode\"\n",
        "lst = list(s)\n",
        "print(lst)\n"
      ],
      "metadata": {
        "colab": {
          "base_uri": "https://localhost:8080/"
        },
        "id": "QfUoiqiShhtC",
        "outputId": "20b18a95-68b4-471e-bba3-2db33187a65b"
      },
      "execution_count": 5,
      "outputs": [
        {
          "output_type": "stream",
          "name": "stdout",
          "text": [
            "['l', 'o', 'v', 'e', 'l', 'e', 'e', 't', 'c', 'o', 'd', 'e']\n"
          ]
        }
      ]
    },
    {
      "cell_type": "code",
      "source": [
        "Given a string s, find the first non-repeating character in it and return its index. If it does not exist, return -1.\n",
        "\n",
        "\n",
        "\n",
        "Example 1:\n",
        "\n",
        "Input: s = \"leetcode\"\n",
        "Output: 0\n",
        "Example 2:\n",
        "\n",
        "Input: s = \"loveleetcode\"\n",
        "Output: 2\n",
        "Example 3:\n",
        "\n",
        "Input: s = \"aabb\"\n",
        "Output: -1\n",
        "\n",
        "\n",
        "Constraints:\n",
        "\n",
        "1 <= s.length <= 105\n",
        "s consists of only lowercase English letters."
      ],
      "metadata": {
        "id": "j-S6U-1uoU_d"
      },
      "execution_count": null,
      "outputs": []
    },
    {
      "cell_type": "markdown",
      "source": [],
      "metadata": {
        "id": "vWdVMwsfoV7g"
      }
    },
    {
      "cell_type": "code",
      "source": [
        "s = \"loveleetcode\"\n",
        "lst = list(s)\n",
        "i = 0\n",
        "result= -1\n",
        "while i<len(lst):\n",
        "  element = lst[i]\n",
        "  lst[i] = \"0\"\n",
        "  if element in lst:\n",
        "    lst[i] = element\n",
        "    i+=1\n",
        "  else:\n",
        "    result = i\n",
        "    break\n",
        "print(result)"
      ],
      "metadata": {
        "colab": {
          "base_uri": "https://localhost:8080/"
        },
        "id": "KxMtF5xAzjO9",
        "outputId": "3dcda697-f913-439d-f40f-635e447ad318"
      },
      "execution_count": 4,
      "outputs": [
        {
          "output_type": "stream",
          "name": "stdout",
          "text": [
            "2\n"
          ]
        }
      ]
    },
    {
      "cell_type": "code",
      "source": [],
      "metadata": {
        "id": "5xRK5a3jeF71"
      },
      "execution_count": null,
      "outputs": []
    }
  ]
}